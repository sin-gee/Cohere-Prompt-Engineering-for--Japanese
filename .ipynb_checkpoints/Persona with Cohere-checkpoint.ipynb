{
 "cells": [
  {
   "cell_type": "markdown",
   "id": "b944ccfc-838b-42ae-be49-9cef37e329cd",
   "metadata": {},
   "source": [
    "# Prompt Egineering\n",
    "## Persona with Cohere"
   ]
  },
  {
   "cell_type": "markdown",
   "id": "e7fc05e2-8f71-4d41-89f6-a06688a719f7",
   "metadata": {},
   "source": [
    "CohereのAPIキーは、https://dashboard.cohere.com/welcome/login からサインアップして取得してください<br>\n"
   ]
  },
  {
   "cell_type": "code",
   "execution_count": 1,
   "id": "9fbe06b0-91f6-4b3a-897f-bb41e9963fd7",
   "metadata": {},
   "outputs": [
    {
     "name": "stdout",
     "output_type": "stream",
     "text": [
      "Requirement already satisfied: python-dotenv in c:\\users\\user\\appdata\\local\\programs\\python\\python312\\lib\\site-packages (1.0.1)\n",
      "Requirement already satisfied: cohere in c:\\users\\user\\appdata\\local\\programs\\python\\python312\\lib\\site-packages (5.5.6)\n",
      "Requirement already satisfied: boto3<2.0.0,>=1.34.0 in c:\\users\\user\\appdata\\local\\programs\\python\\python312\\lib\\site-packages (from cohere) (1.34.123)\n",
      "Requirement already satisfied: fastavro<2.0.0,>=1.9.4 in c:\\users\\user\\appdata\\local\\programs\\python\\python312\\lib\\site-packages (from cohere) (1.9.4)\n",
      "Requirement already satisfied: httpx>=0.21.2 in c:\\users\\user\\appdata\\local\\programs\\python\\python312\\lib\\site-packages (from cohere) (0.27.0)\n",
      "Requirement already satisfied: httpx-sse<0.5.0,>=0.4.0 in c:\\users\\user\\appdata\\local\\programs\\python\\python312\\lib\\site-packages (from cohere) (0.4.0)\n",
      "Requirement already satisfied: parameterized<0.10.0,>=0.9.0 in c:\\users\\user\\appdata\\local\\programs\\python\\python312\\lib\\site-packages (from cohere) (0.9.0)\n",
      "Requirement already satisfied: pydantic>=1.9.2 in c:\\users\\user\\appdata\\local\\programs\\python\\python312\\lib\\site-packages (from cohere) (2.7.3)\n",
      "Requirement already satisfied: requests<3.0.0,>=2.0.0 in c:\\users\\user\\appdata\\local\\programs\\python\\python312\\lib\\site-packages (from cohere) (2.32.3)\n",
      "Requirement already satisfied: tokenizers<0.16,>=0.15 in c:\\users\\user\\appdata\\local\\programs\\python\\python312\\lib\\site-packages (from cohere) (0.15.2)\n",
      "Requirement already satisfied: types-requests<3.0.0,>=2.0.0 in c:\\users\\user\\appdata\\local\\programs\\python\\python312\\lib\\site-packages (from cohere) (2.32.0.20240602)\n",
      "Requirement already satisfied: typing_extensions>=4.0.0 in c:\\users\\user\\appdata\\local\\programs\\python\\python312\\lib\\site-packages (from cohere) (4.12.2)\n",
      "Requirement already satisfied: botocore<1.35.0,>=1.34.123 in c:\\users\\user\\appdata\\local\\programs\\python\\python312\\lib\\site-packages (from boto3<2.0.0,>=1.34.0->cohere) (1.34.123)\n",
      "Requirement already satisfied: jmespath<2.0.0,>=0.7.1 in c:\\users\\user\\appdata\\local\\programs\\python\\python312\\lib\\site-packages (from boto3<2.0.0,>=1.34.0->cohere) (1.0.1)\n",
      "Requirement already satisfied: s3transfer<0.11.0,>=0.10.0 in c:\\users\\user\\appdata\\local\\programs\\python\\python312\\lib\\site-packages (from boto3<2.0.0,>=1.34.0->cohere) (0.10.1)\n",
      "Requirement already satisfied: anyio in c:\\users\\user\\appdata\\local\\programs\\python\\python312\\lib\\site-packages (from httpx>=0.21.2->cohere) (4.2.0)\n",
      "Requirement already satisfied: certifi in c:\\users\\user\\appdata\\local\\programs\\python\\python312\\lib\\site-packages (from httpx>=0.21.2->cohere) (2024.2.2)\n",
      "Requirement already satisfied: httpcore==1.* in c:\\users\\user\\appdata\\local\\programs\\python\\python312\\lib\\site-packages (from httpx>=0.21.2->cohere) (1.0.5)\n",
      "Requirement already satisfied: idna in c:\\users\\user\\appdata\\local\\programs\\python\\python312\\lib\\site-packages (from httpx>=0.21.2->cohere) (3.6)\n",
      "Requirement already satisfied: sniffio in c:\\users\\user\\appdata\\local\\programs\\python\\python312\\lib\\site-packages (from httpx>=0.21.2->cohere) (1.3.0)\n",
      "Requirement already satisfied: h11<0.15,>=0.13 in c:\\users\\user\\appdata\\local\\programs\\python\\python312\\lib\\site-packages (from httpcore==1.*->httpx>=0.21.2->cohere) (0.14.0)\n",
      "Requirement already satisfied: annotated-types>=0.4.0 in c:\\users\\user\\appdata\\local\\programs\\python\\python312\\lib\\site-packages (from pydantic>=1.9.2->cohere) (0.7.0)\n",
      "Requirement already satisfied: pydantic-core==2.18.4 in c:\\users\\user\\appdata\\local\\programs\\python\\python312\\lib\\site-packages (from pydantic>=1.9.2->cohere) (2.18.4)\n",
      "Requirement already satisfied: charset-normalizer<4,>=2 in c:\\users\\user\\appdata\\local\\programs\\python\\python312\\lib\\site-packages (from requests<3.0.0,>=2.0.0->cohere) (3.3.2)\n",
      "Requirement already satisfied: urllib3<3,>=1.21.1 in c:\\users\\user\\appdata\\local\\programs\\python\\python312\\lib\\site-packages (from requests<3.0.0,>=2.0.0->cohere) (2.2.1)\n",
      "Requirement already satisfied: huggingface_hub<1.0,>=0.16.4 in c:\\users\\user\\appdata\\local\\programs\\python\\python312\\lib\\site-packages (from tokenizers<0.16,>=0.15->cohere) (0.23.3)\n",
      "Requirement already satisfied: python-dateutil<3.0.0,>=2.1 in c:\\users\\user\\appdata\\local\\programs\\python\\python312\\lib\\site-packages (from botocore<1.35.0,>=1.34.123->boto3<2.0.0,>=1.34.0->cohere) (2.8.2)\n",
      "Requirement already satisfied: filelock in c:\\users\\user\\appdata\\local\\programs\\python\\python312\\lib\\site-packages (from huggingface_hub<1.0,>=0.16.4->tokenizers<0.16,>=0.15->cohere) (3.13.1)\n",
      "Requirement already satisfied: fsspec>=2023.5.0 in c:\\users\\user\\appdata\\local\\programs\\python\\python312\\lib\\site-packages (from huggingface_hub<1.0,>=0.16.4->tokenizers<0.16,>=0.15->cohere) (2023.12.2)\n",
      "Requirement already satisfied: packaging>=20.9 in c:\\users\\user\\appdata\\local\\programs\\python\\python312\\lib\\site-packages (from huggingface_hub<1.0,>=0.16.4->tokenizers<0.16,>=0.15->cohere) (23.2)\n",
      "Requirement already satisfied: pyyaml>=5.1 in c:\\users\\user\\appdata\\local\\programs\\python\\python312\\lib\\site-packages (from huggingface_hub<1.0,>=0.16.4->tokenizers<0.16,>=0.15->cohere) (6.0.1)\n",
      "Requirement already satisfied: tqdm>=4.42.1 in c:\\users\\user\\appdata\\local\\programs\\python\\python312\\lib\\site-packages (from huggingface_hub<1.0,>=0.16.4->tokenizers<0.16,>=0.15->cohere) (4.66.4)\n",
      "Requirement already satisfied: six>=1.5 in c:\\users\\user\\appdata\\local\\programs\\python\\python312\\lib\\site-packages (from python-dateutil<3.0.0,>=2.1->botocore<1.35.0,>=1.34.123->boto3<2.0.0,>=1.34.0->cohere) (1.16.0)\n",
      "Requirement already satisfied: colorama in c:\\users\\user\\appdata\\local\\programs\\python\\python312\\lib\\site-packages (from tqdm>=4.42.1->huggingface_hub<1.0,>=0.16.4->tokenizers<0.16,>=0.15->cohere) (0.4.6)\n"
     ]
    }
   ],
   "source": [
    "!pip install python-dotenv cohere"
   ]
  },
  {
   "cell_type": "code",
   "execution_count": 1,
   "id": "aadbbff3-0b9f-434b-8bac-fa2f62dbb92a",
   "metadata": {},
   "outputs": [],
   "source": [
    "import os\n",
    "import cohere\n",
    "import sys\n",
    "from dotenv import load_dotenv, find_dotenv\n",
    "_ = load_dotenv(find_dotenv())\n",
    "\n",
    "# OSの環境変数にCOHERE_API_KEYを設定してください\n",
    "api_key=os.environ.get(\"COHERE_API_KEY\")\n",
    "#print(api_key)"
   ]
  },
  {
   "cell_type": "code",
   "execution_count": 3,
   "id": "a0a812df-1842-4648-8f85-53c5e17a944e",
   "metadata": {},
   "outputs": [],
   "source": [
    "def get_completion_from_messages(messages, user_message,\n",
    "                                 temperature=0, max_tokens=500):\n",
    "    response = cohere.Client(api_key).chat(\n",
    "        chat_history=messages,\n",
    "        message=user_message\n",
    "    )\n",
    "    return response.text"
   ]
  },
  {
   "cell_type": "markdown",
   "id": "0ba8050c-8ffc-49ca-a416-9d0af4ea8fbb",
   "metadata": {},
   "source": [
    "### 課題（ひっかけ問題）の設定"
   ]
  },
  {
   "cell_type": "code",
   "execution_count": 28,
   "id": "672cd06f-7847-4c62-921f-e6d6013152d0",
   "metadata": {},
   "outputs": [],
   "source": [
    "user_message = f\"\"\"\n",
    "Q：私が６歳のころ弟は私の半分の歳でした。私は２０歳になりました。弟は何歳ですか？\n",
    "\"\"\"\n",
    "\n",
    "#誤解を誘う設定"
   ]
  },
  {
   "cell_type": "markdown",
   "id": "f1d27537-8e58-40f7-b03c-65a8e3bb85c1",
   "metadata": {},
   "source": [
    "### Persona 算数が不得意な小学生に設定"
   ]
  },
  {
   "cell_type": "code",
   "execution_count": 43,
   "id": "b44b6313-07bf-4560-9020-6c6615dec721",
   "metadata": {},
   "outputs": [],
   "source": [
    "simple_message = f\"\"\"\n",
    "あなたは算数が不得意な小学１年生です。次の宿題をすませて遊びに行きましょう。\n",
    "\"\"\""
   ]
  },
  {
   "cell_type": "code",
   "execution_count": 44,
   "id": "494d14b7-e498-4367-a6c5-d9f71ef52987",
   "metadata": {},
   "outputs": [
    {
     "name": "stdout",
     "output_type": "stream",
     "text": [
      "A：弟は10歳です。\n"
     ]
    }
   ],
   "source": [
    "system_messages =  [  \n",
    "{'role':'system', \n",
    " 'message': simple_message}\n",
    "] \n",
    "\n",
    "response = get_completion_from_messages(system_messages,user_message)\n",
    "print(response)"
   ]
  },
  {
   "cell_type": "markdown",
   "id": "a45c18de-4bdd-4e70-b9ab-a22b4a57b333",
   "metadata": {},
   "source": [
    "### Persona 普通の小学生に設定"
   ]
  },
  {
   "cell_type": "code",
   "execution_count": 72,
   "id": "27c05e28-e2b4-4c85-8085-57fec4d42ada",
   "metadata": {},
   "outputs": [],
   "source": [
    "simple_message = f\"\"\"\n",
    "あなたは算数が得意な小学６年生です。次の問題を解きなさい。\n",
    "\"\"\"\n",
    "\n",
    "#「解きなさい」から「解きましょう」に換えると答えが変わる"
   ]
  },
  {
   "cell_type": "code",
   "execution_count": 73,
   "id": "661ed289-2ad7-43ed-8a55-447cd3a41d63",
   "metadata": {},
   "outputs": [
    {
     "name": "stdout",
     "output_type": "stream",
     "text": [
      "A：弟は10歳です。\n",
      "\n",
      "私が6歳の時、弟は3歳だったので、私が14歳年上ということになります。\n",
      "\n",
      "私が20歳になった今、弟は10歳になります。\n"
     ]
    }
   ],
   "source": [
    "system_messages =  [  \n",
    "{'role':'system', \n",
    " 'message': simple_message}\n",
    "] \n",
    "\n",
    "response = get_completion_from_messages(system_messages,user_message)\n",
    "print(response)"
   ]
  },
  {
   "cell_type": "markdown",
   "id": "7d8d71bd-1ada-4815-b088-7e46fcc6944b",
   "metadata": {},
   "source": [
    "### Persona 小学校の先生に設定"
   ]
  },
  {
   "cell_type": "code",
   "execution_count": 56,
   "id": "15ca8cff-2250-4d85-8e64-848b3acb398a",
   "metadata": {},
   "outputs": [],
   "source": [
    "simple_message = f\"\"\"\n",
    "あなたは小学校の先生です。次の問題の解き方を説明してください。\n",
    "\"\"\""
   ]
  },
  {
   "cell_type": "code",
   "execution_count": 57,
   "id": "4bda0b16-cf45-45c5-8675-b662c1e17318",
   "metadata": {},
   "outputs": [
    {
     "name": "stdout",
     "output_type": "stream",
     "text": [
      "この問題を解くには、あなたと弟さんの年齢の差が一定であることを利用します。あなたが6歳の時、弟さんは3歳だったので、年齢の差は3歳です。この差は、あなたが20歳になった今でも変わりません。\n",
      "\n",
      "そのため、弟さんの年齢は、あなたの年齢から3を引いたものになります。20歳から3を引くと、弟さんは**17歳**です。\n"
     ]
    }
   ],
   "source": [
    "system_messages =  [  \n",
    "{'role':'system', \n",
    " 'message': simple_message}\n",
    "] \n",
    "\n",
    "response = get_completion_from_messages(system_messages,user_message)\n",
    "print(response)"
   ]
  },
  {
   "cell_type": "code",
   "execution_count": null,
   "id": "2986d8ba-2edc-438f-91e8-30595938c6f0",
   "metadata": {},
   "outputs": [],
   "source": []
  }
 ],
 "metadata": {
  "kernelspec": {
   "display_name": "Python 3 (ipykernel)",
   "language": "python",
   "name": "python3"
  },
  "language_info": {
   "codemirror_mode": {
    "name": "ipython",
    "version": 3
   },
   "file_extension": ".py",
   "mimetype": "text/x-python",
   "name": "python",
   "nbconvert_exporter": "python",
   "pygments_lexer": "ipython3",
   "version": "3.12.1"
  }
 },
 "nbformat": 4,
 "nbformat_minor": 5
}

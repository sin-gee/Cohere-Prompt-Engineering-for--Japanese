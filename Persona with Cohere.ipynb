{
 "cells": [
  {
   "cell_type": "markdown",
   "id": "b944ccfc-838b-42ae-be49-9cef37e329cd",
   "metadata": {},
   "source": [
    "# Prompt Egineering\n",
    "## Persona with Cohere"
   ]
  },
  {
   "cell_type": "markdown",
   "id": "e7fc05e2-8f71-4d41-89f6-a06688a719f7",
   "metadata": {},
   "source": [
    "CohereのAPIキーは、https://dashboard.cohere.com/welcome/login からサインアップして取得してください<br>\n"
   ]
  },
  {
   "cell_type": "code",
   "execution_count": null,
   "id": "8d935f73-4267-47a6-b4af-9e514095f29e",
   "metadata": {},
   "outputs": [],
   "source": [
    "!pip install python-dotenv cohere"
   ]
  },
  {
   "cell_type": "code",
   "execution_count": 96,
   "id": "aadbbff3-0b9f-434b-8bac-fa2f62dbb92a",
   "metadata": {},
   "outputs": [],
   "source": [
    "import os\n",
    "import cohere\n",
    "import sys\n",
    "from dotenv import load_dotenv, find_dotenv\n",
    "_ = load_dotenv(find_dotenv())\n",
    "\n",
    "# OSの環境変数にCOHERE_API_KEYを設定してください\n",
    "api_key=os.environ.get(\"COHERE_API_KEY\")\n",
    "#print(api_key)"
   ]
  },
  {
   "cell_type": "code",
   "execution_count": 97,
   "id": "a0a812df-1842-4648-8f85-53c5e17a944e",
   "metadata": {},
   "outputs": [],
   "source": [
    "def get_completion_from_messages(messages, user_message):\n",
    "    response = cohere.Client(api_key).chat(\n",
    "        chat_history=messages,\n",
    "        message=user_message,\n",
    "        temperature=0\n",
    "    )\n",
    "    return response.text"
   ]
  },
  {
   "cell_type": "markdown",
   "id": "0ba8050c-8ffc-49ca-a416-9d0af4ea8fbb",
   "metadata": {},
   "source": [
    "### 課題（ひっかけ問題）の設定"
   ]
  },
  {
   "cell_type": "code",
   "execution_count": 128,
   "id": "672cd06f-7847-4c62-921f-e6d6013152d0",
   "metadata": {},
   "outputs": [],
   "source": [
    "user_message = f\"\"\"\n",
    "次の問題に答えましょう。\n",
    "もんだい：私が６才のころ、弟は私の半分の才でした。私は１０才になりました。弟は何才ですか？\n",
    "\"\"\"\n",
    "\n",
    "#誤解を誘う設定"
   ]
  },
  {
   "cell_type": "markdown",
   "id": "f1d27537-8e58-40f7-b03c-65a8e3bb85c1",
   "metadata": {},
   "source": [
    "### Persona 小学１年生に設定"
   ]
  },
  {
   "cell_type": "code",
   "execution_count": 129,
   "id": "b44b6313-07bf-4560-9020-6c6615dec721",
   "metadata": {},
   "outputs": [],
   "source": [
    "simple_message = f\"\"\"\n",
    "あなたは小学１年生です。\n",
    "\"\"\""
   ]
  },
  {
   "cell_type": "code",
   "execution_count": 130,
   "id": "494d14b7-e498-4367-a6c5-d9f71ef52987",
   "metadata": {},
   "outputs": [
    {
     "name": "stdout",
     "output_type": "stream",
     "text": [
      "私は６才のとき、弟は３才でした。私が１０才になったので、弟は７才です。\n"
     ]
    }
   ],
   "source": [
    "system_messages =  [  \n",
    "{'role':'system', \n",
    " 'message': simple_message}\n",
    "] \n",
    "\n",
    "response = get_completion_from_messages(system_messages,user_message)\n",
    "print(response)"
   ]
  },
  {
   "cell_type": "markdown",
   "id": "a45c18de-4bdd-4e70-b9ab-a22b4a57b333",
   "metadata": {},
   "source": [
    "### Persona 小学６年生に設定"
   ]
  },
  {
   "cell_type": "code",
   "execution_count": 131,
   "id": "27c05e28-e2b4-4c85-8085-57fec4d42ada",
   "metadata": {},
   "outputs": [],
   "source": [
    "simple_message = f\"\"\"\n",
    "あなたは小学６年生です。\n",
    "\"\"\""
   ]
  },
  {
   "cell_type": "code",
   "execution_count": 132,
   "id": "661ed289-2ad7-43ed-8a55-447cd3a41d63",
   "metadata": {},
   "outputs": [
    {
     "name": "stdout",
     "output_type": "stream",
     "text": [
      "弟さんは5歳ですね！\n"
     ]
    }
   ],
   "source": [
    "system_messages =  [  \n",
    "{'role':'system', \n",
    " 'message': simple_message}\n",
    "] \n",
    "\n",
    "response = get_completion_from_messages(system_messages,user_message)\n",
    "print(response)"
   ]
  },
  {
   "cell_type": "markdown",
   "id": "7d8d71bd-1ada-4815-b088-7e46fcc6944b",
   "metadata": {},
   "source": [
    "### Persona 小学校の先生に設定"
   ]
  },
  {
   "cell_type": "code",
   "execution_count": 133,
   "id": "15ca8cff-2250-4d85-8e64-848b3acb398a",
   "metadata": {},
   "outputs": [],
   "source": [
    "simple_message = f\"\"\"\n",
    "あなたは小学校の先生です。\n",
    "\"\"\""
   ]
  },
  {
   "cell_type": "code",
   "execution_count": 134,
   "id": "4bda0b16-cf45-45c5-8675-b662c1e17318",
   "metadata": {},
   "outputs": [
    {
     "name": "stdout",
     "output_type": "stream",
     "text": [
      "あなたが6歳のとき、弟は3歳だったのですね。あなたが10歳になった今、弟は7歳です。\n"
     ]
    }
   ],
   "source": [
    "system_messages =  [  \n",
    "{'role':'system', \n",
    " 'message': simple_message}\n",
    "] \n",
    "\n",
    "response = get_completion_from_messages(system_messages,user_message)\n",
    "print(response)"
   ]
  },
  {
   "cell_type": "code",
   "execution_count": null,
   "id": "faae29c9-04c5-4201-9c90-012e2b1fed80",
   "metadata": {},
   "outputs": [],
   "source": []
  }
 ],
 "metadata": {
  "kernelspec": {
   "display_name": "Python 3 (ipykernel)",
   "language": "python",
   "name": "python3"
  },
  "language_info": {
   "codemirror_mode": {
    "name": "ipython",
    "version": 3
   },
   "file_extension": ".py",
   "mimetype": "text/x-python",
   "name": "python",
   "nbconvert_exporter": "python",
   "pygments_lexer": "ipython3",
   "version": "3.12.1"
  }
 },
 "nbformat": 4,
 "nbformat_minor": 5
}

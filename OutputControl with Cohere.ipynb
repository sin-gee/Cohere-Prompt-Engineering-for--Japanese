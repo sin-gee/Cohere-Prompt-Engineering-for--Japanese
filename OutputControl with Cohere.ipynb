{
 "cells": [
  {
   "cell_type": "markdown",
   "id": "54f38a19-094e-49fd-a35e-ec1640c58409",
   "metadata": {},
   "source": [
    "# Prompt Egineering\n",
    "## 出力の指定 with Cohere"
   ]
  },
  {
   "cell_type": "markdown",
   "id": "e7fc05e2-8f71-4d41-89f6-a06688a719f7",
   "metadata": {},
   "source": [
    "CohereのAPIキーは、https://dashboard.cohere.com/welcome/login からサインアップして取得してください<br>\n"
   ]
  },
  {
   "cell_type": "code",
   "execution_count": null,
   "id": "cdfd2e3d-6420-4302-b7c7-e9562975be92",
   "metadata": {},
   "outputs": [],
   "source": [
    "!pip install python-dotenv cohere"
   ]
  },
  {
   "cell_type": "code",
   "execution_count": 8,
   "id": "aadbbff3-0b9f-434b-8bac-fa2f62dbb92a",
   "metadata": {},
   "outputs": [],
   "source": [
    "import os\n",
    "import cohere\n",
    "import sys\n",
    "from dotenv import load_dotenv, find_dotenv\n",
    "_ = load_dotenv(find_dotenv())\n",
    "\n",
    "# OSの環境変数にCOHERE_API_KEYを設定してください\n",
    "api_key=os.environ.get(\"COHERE_API_KEY\")\n",
    "#print(api_key)"
   ]
  },
  {
   "cell_type": "code",
   "execution_count": 9,
   "id": "a0a812df-1842-4648-8f85-53c5e17a944e",
   "metadata": {},
   "outputs": [],
   "source": [
    "def get_completion_from_messages(messages, user_message,\n",
    "                                 temperature=0, max_tokens=500):\n",
    "    response = cohere.Client(api_key).chat(\n",
    "        chat_history=messages,\n",
    "        message=user_message\n",
    "    )\n",
    "    return response.text"
   ]
  },
  {
   "cell_type": "markdown",
   "id": "8513424a-bfd7-4b21-942a-ea7cbf388e28",
   "metadata": {},
   "source": [
    "### 取り扱い製品リスト"
   ]
  },
  {
   "cell_type": "code",
   "execution_count": 10,
   "id": "6434068e-17d3-4538-8cff-d4f72a0f6917",
   "metadata": {},
   "outputs": [],
   "source": [
    "productslist = \"\"\"\n",
    "1. Product: TechPro Ultrabook\n",
    "   Category: Computers and Laptops\n",
    "   Brand: TechPro\n",
    "   Model Number: TP-UB100\n",
    "   Warranty: 1 year\n",
    "   Rating: 4.5\n",
    "   Features: 13.3-inch display, 8GB RAM, 256GB SSD, Intel Core i5 processor\n",
    "   Description: A sleek and lightweight ultrabook for everyday use.\n",
    "   Price: $799.99\n",
    "\n",
    "2. Product: BlueWave Gaming Laptop\n",
    "   Category: Computers and Laptops\n",
    "   Brand: BlueWave\n",
    "   Model Number: BW-GL200\n",
    "   Warranty: 2 years\n",
    "   Rating: 4.7\n",
    "   Features: 15.6-inch display, 16GB RAM, 512GB SSD, NVIDIA GeForce RTX 3060\n",
    "   Description: A high-performance gaming laptop for an immersive experience.\n",
    "   Price: $1199.99\n",
    "\n",
    "3. Product: PowerLite Convertible\n",
    "   Category: Computers and Laptops\n",
    "   Brand: PowerLite\n",
    "   Model Number: PL-CV300\n",
    "   Warranty: 1 year\n",
    "   Rating: 4.3\n",
    "   Features: 14-inch touchscreen, 8GB RAM, 256GB SSD, 360-degree hinge\n",
    "   Description: A versatile convertible laptop with a responsive touchscreen.\n",
    "   Price: $699.99\n",
    "\n",
    "4. Product: TechPro Desktop\n",
    "   Category: Computers and Laptops\n",
    "   Brand: TechPro\n",
    "   Model Number: TP-DT500\n",
    "   Warranty: 1 year\n",
    "   Rating: 4.4\n",
    "   Features: Intel Core i7 processor, 16GB RAM, 1TB HDD, NVIDIA GeForce GTX 1660\n",
    "   Description: A powerful desktop computer for work and play.\n",
    "   Price: $999.99\n",
    "\n",
    "5. Product: BlueWave Chromebook\n",
    "   Category: Computers and Laptops\n",
    "   Brand: BlueWave\n",
    "   Model Number: BW-CB100\n",
    "   Warranty: 1 year\n",
    "   Rating: 4.1\n",
    "   Features: 11.6-inch display, 4GB RAM, 32GB eMMC, Chrome OS\n",
    "   Description: A compact and affordable Chromebook for everyday tasks.\n",
    "   Price: $249.99\n",
    "\"\"\""
   ]
  },
  {
   "cell_type": "markdown",
   "id": "af3432a1-d369-4697-a45f-b3ea4b9637c6",
   "metadata": {},
   "source": [
    "### システムプロンプト"
   ]
  },
  {
   "cell_type": "code",
   "execution_count": 11,
   "id": "a1eabce5-47c1-4c8c-ab99-27aa60d6f281",
   "metadata": {},
   "outputs": [],
   "source": [
    "messages =  [  \n",
    "{'role':'system', \n",
    " 'message': f\"\"\"\n",
    "次の全取扱製品を元に顧客からの問い合わせに対応してください。 \n",
    "{productslist}\n",
    "\"\"\"\n",
    "} ] \n",
    "#このようにネタを与えて、ネタを元に処理させることを「グラウンディング」と呼びます。"
   ]
  },
  {
   "cell_type": "markdown",
   "id": "6185bc55-0b11-48f6-afbc-61197ebf50dd",
   "metadata": {},
   "source": [
    "### JSON形式での出力を指定する"
   ]
  },
  {
   "cell_type": "code",
   "execution_count": 12,
   "id": "672cd06f-7847-4c62-921f-e6d6013152d0",
   "metadata": {},
   "outputs": [],
   "source": [
    "user_message = f\"\"\"\n",
    "おすすめのPCを２点、JSON形式で教えてください。\"\"\""
   ]
  },
  {
   "cell_type": "code",
   "execution_count": 13,
   "id": "c9910b6e-118e-47a1-966f-a6224a5388a9",
   "metadata": {},
   "outputs": [
    {
     "name": "stdout",
     "output_type": "stream",
     "text": [
      "[\n",
      "    {\n",
      "        \"product\": \"BlueWave Gaming Laptop\",\n",
      "        \"category\": \"Computers and Laptops\",\n",
      "        \"brand\": \"BlueWave\",\n",
      "        \"model\": \"BW-GL200\",\n",
      "        \"warranty\": \"2 years\",\n",
      "        \"rating\": 4.7,\n",
      "        \"features\": \"15.6-inch display, 16GB RAM, 512GB SSD, NVIDIA GeForce RTX 3060\",\n",
      "        \"description\": \"高性能なゲーミングラップトップで、没入感のあるゲーム体験を提供します。\",\n",
      "        \"price\": 1199.99\n",
      "    },\n",
      "    {\n",
      "        \"product\": \"TechPro Desktop\",\n",
      "        \"category\": \"Computers and Laptops\",\n",
      "        \"brand\": \"TechPro\",\n",
      "        \"model\": \"TP-DT500\",\n",
      "        \"warranty\": \"1 year\",\n",
      "        \"rating\": 4.4,\n",
      "        \"features\": \"Intel Core i7 processor, 16GB RAM, 1TB HDD, NVIDIA GeForce GTX 1660\",\n",
      "        \"description\": \"ワークステーションやゲームに最適なパワフルなデスクトップコンピューターです。\",\n",
      "        \"price\": 999.99\n",
      "    }\n",
      "]\n"
     ]
    }
   ],
   "source": [
    "response = get_completion_from_messages(messages,user_message)\n",
    "print(response)"
   ]
  },
  {
   "cell_type": "markdown",
   "id": "53bc7c1e-8323-40ba-92c8-c53775d257f6",
   "metadata": {},
   "source": [
    "### 出力文字数を指定する\n",
    "#### LLMはトークンで処理しており文字では処理していないため、他の言語ではうまくいかない場合が多いが、日本語は１文字を１トークンとして扱う場合が多いため、うまくいったりする。"
   ]
  },
  {
   "cell_type": "code",
   "execution_count": 18,
   "id": "e802a4c8-0620-4dd6-b181-f33fe54527a8",
   "metadata": {},
   "outputs": [],
   "source": [
    "user_message = f\"\"\"\n",
    "ゲームができるPCを探しています。おすすめがあれば理由を含めて３０文字以内で教えてください。\"\"\""
   ]
  },
  {
   "cell_type": "code",
   "execution_count": 19,
   "id": "eac650bd-8cad-456b-8afd-08a4c6eeaf6e",
   "metadata": {},
   "outputs": [
    {
     "name": "stdout",
     "output_type": "stream",
     "text": [
      "BlueWave Gaming Laptop: 高性能グラフィックカード搭載でゲームに最適。\n"
     ]
    }
   ],
   "source": [
    "response = get_completion_from_messages(messages,user_message)\n",
    "print(response)"
   ]
  },
  {
   "cell_type": "code",
   "execution_count": null,
   "id": "8bf143a8-af56-4fe8-beb0-477749a2e89f",
   "metadata": {},
   "outputs": [],
   "source": []
  }
 ],
 "metadata": {
  "kernelspec": {
   "display_name": "Python 3 (ipykernel)",
   "language": "python",
   "name": "python3"
  },
  "language_info": {
   "codemirror_mode": {
    "name": "ipython",
    "version": 3
   },
   "file_extension": ".py",
   "mimetype": "text/x-python",
   "name": "python",
   "nbconvert_exporter": "python",
   "pygments_lexer": "ipython3",
   "version": "3.12.1"
  }
 },
 "nbformat": 4,
 "nbformat_minor": 5
}

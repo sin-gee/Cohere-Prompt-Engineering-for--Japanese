{
 "cells": [
  {
   "cell_type": "markdown",
   "id": "54f38a19-094e-49fd-a35e-ec1640c58409",
   "metadata": {},
   "source": [
    "# Prompt Egineering\n",
    "## 出力形式の指定 with Cohere"
   ]
  },
  {
   "cell_type": "markdown",
   "id": "e7fc05e2-8f71-4d41-89f6-a06688a719f7",
   "metadata": {},
   "source": [
    "CohereのAPIキーは、https://dashboard.cohere.com/welcome/login からサインアップして取得してください<br>\n"
   ]
  },
  {
   "cell_type": "code",
   "execution_count": null,
   "id": "cdfd2e3d-6420-4302-b7c7-e9562975be92",
   "metadata": {},
   "outputs": [],
   "source": [
    "!pip install python-dotenv cohere"
   ]
  },
  {
   "cell_type": "code",
   "execution_count": 3,
   "id": "aadbbff3-0b9f-434b-8bac-fa2f62dbb92a",
   "metadata": {},
   "outputs": [],
   "source": [
    "import os\n",
    "import cohere\n",
    "import sys\n",
    "from dotenv import load_dotenv, find_dotenv\n",
    "_ = load_dotenv(find_dotenv())\n",
    "\n",
    "# OSの環境変数にCOHERE_API_KEYを設定してください\n",
    "api_key=os.environ.get(\"COHERE_API_KEY\")\n",
    "#print(api_key)"
   ]
  },
  {
   "cell_type": "code",
   "execution_count": 4,
   "id": "a0a812df-1842-4648-8f85-53c5e17a944e",
   "metadata": {},
   "outputs": [],
   "source": [
    "def get_completion_from_messages(messages, user_message,\n",
    "                                 temperature=0, max_tokens=500):\n",
    "    response = cohere.Client(api_key).chat(\n",
    "        chat_history=messages,\n",
    "        message=user_message\n",
    "    )\n",
    "    #使用したトークン数等を知りたい場合はコメントアウトを外してみてください\n",
    "    #print(response)\n",
    "    return response.text"
   ]
  },
  {
   "cell_type": "markdown",
   "id": "8513424a-bfd7-4b21-942a-ea7cbf388e28",
   "metadata": {},
   "source": [
    "### 取り扱い製品リスト"
   ]
  },
  {
   "cell_type": "code",
   "execution_count": 5,
   "id": "6434068e-17d3-4538-8cff-d4f72a0f6917",
   "metadata": {},
   "outputs": [],
   "source": [
    "productslist = \"\"\"\n",
    "1. Product: TechPro Ultrabook\n",
    "   Category: Computers and Laptops\n",
    "   Brand: TechPro\n",
    "   Model Number: TP-UB100\n",
    "   Warranty: 1 year\n",
    "   Rating: 4.5\n",
    "   Features: 13.3-inch display, 8GB RAM, 256GB SSD, Intel Core i5 processor\n",
    "   Description: A sleek and lightweight ultrabook for everyday use.\n",
    "   Price: $799.99\n",
    "\n",
    "2. Product: BlueWave Gaming Laptop\n",
    "   Category: Computers and Laptops\n",
    "   Brand: BlueWave\n",
    "   Model Number: BW-GL200\n",
    "   Warranty: 2 years\n",
    "   Rating: 4.7\n",
    "   Features: 15.6-inch display, 16GB RAM, 512GB SSD, NVIDIA GeForce RTX 3060\n",
    "   Description: A high-performance gaming laptop for an immersive experience.\n",
    "   Price: $1199.99\n",
    "\n",
    "3. Product: PowerLite Convertible\n",
    "   Category: Computers and Laptops\n",
    "   Brand: PowerLite\n",
    "   Model Number: PL-CV300\n",
    "   Warranty: 1 year\n",
    "   Rating: 4.3\n",
    "   Features: 14-inch touchscreen, 8GB RAM, 256GB SSD, 360-degree hinge\n",
    "   Description: A versatile convertible laptop with a responsive touchscreen.\n",
    "   Price: $699.99\n",
    "\n",
    "4. Product: TechPro Desktop\n",
    "   Category: Computers and Laptops\n",
    "   Brand: TechPro\n",
    "   Model Number: TP-DT500\n",
    "   Warranty: 1 year\n",
    "   Rating: 4.4\n",
    "   Features: Intel Core i7 processor, 16GB RAM, 1TB HDD, NVIDIA GeForce GTX 1660\n",
    "   Description: A powerful desktop computer for work and play.\n",
    "   Price: $999.99\n",
    "\n",
    "5. Product: BlueWave Chromebook\n",
    "   Category: Computers and Laptops\n",
    "   Brand: BlueWave\n",
    "   Model Number: BW-CB100\n",
    "   Warranty: 1 year\n",
    "   Rating: 4.1\n",
    "   Features: 11.6-inch display, 4GB RAM, 32GB eMMC, Chrome OS\n",
    "   Description: A compact and affordable Chromebook for everyday tasks.\n",
    "   Price: $249.99\n",
    "\"\"\""
   ]
  },
  {
   "cell_type": "markdown",
   "id": "0ba8050c-8ffc-49ca-a416-9d0af4ea8fbb",
   "metadata": {},
   "source": [
    "### JSON形式での出力を要求する"
   ]
  },
  {
   "cell_type": "code",
   "execution_count": 8,
   "id": "672cd06f-7847-4c62-921f-e6d6013152d0",
   "metadata": {},
   "outputs": [],
   "source": [
    "user_message = f\"\"\"\n",
    "おすすめのPCを２点、JSON形式で教えてください。\"\"\""
   ]
  },
  {
   "cell_type": "markdown",
   "id": "07681628-597a-4ffa-a489-afd66ef85d77",
   "metadata": {},
   "source": [
    "### システムプロンプト"
   ]
  },
  {
   "cell_type": "code",
   "execution_count": 18,
   "id": "494d14b7-e498-4367-a6c5-d9f71ef52987",
   "metadata": {},
   "outputs": [
    {
     "name": "stdout",
     "output_type": "stream",
     "text": [
      "[\n",
      "    {\n",
      "        \"product\": \"BlueWave Gaming Laptop\",\n",
      "        \"category\": \"Computers and Laptops\",\n",
      "        \"brand\": \"BlueWave\",\n",
      "        \"model\": \"BW-GL200\",\n",
      "        \"warranty\": \"2 years\",\n",
      "        \"rating\": 4.7,\n",
      "        \"features\": \"15.6-inch display, 16GB RAM, 512GB SSD, NVIDIA GeForce RTX 3060\",\n",
      "        \"description\": \"高性能なゲーミングラップトップで、没入感のあるゲーム体験を提供します。\",\n",
      "        \"price\": 1199.99\n",
      "    },\n",
      "    {\n",
      "        \"product\": \"TechPro Desktop\",\n",
      "        \"category\": \"Computers and Laptops\",\n",
      "        \"brand\": \"TechPro\",\n",
      "        \"model\": \"TP-DT500\",\n",
      "        \"warranty\": \"1 year\",\n",
      "        \"rating\": 4.4,\n",
      "        \"features\": \"Intel Core i7 processor, 16GB RAM, 1TB HDD, NVIDIA GeForce GTX 1660\",\n",
      "        \"description\": \"仕事やゲームに最適な高性能デスクトップコンピューターです。\",\n",
      "        \"price\": 999.99\n",
      "    }\n",
      "]\n"
     ]
    }
   ],
   "source": [
    "messages =  [  \n",
    "{'role':'system', \n",
    " 'message': f\"\"\"\n",
    "次の全取扱製品を元に顧客からの問い合わせに対応してください。 \n",
    "{productslist}\n",
    "\"\"\"\n",
    "} ] \n",
    "#グラウンディング\n",
    "\n",
    "response = get_completion_from_messages(messages,user_message)\n",
    "print(response)"
   ]
  },
  {
   "cell_type": "code",
   "execution_count": null,
   "id": "0b58d2c9-0058-4fef-ae9d-eed20a246065",
   "metadata": {},
   "outputs": [],
   "source": []
  }
 ],
 "metadata": {
  "kernelspec": {
   "display_name": "Python 3 (ipykernel)",
   "language": "python",
   "name": "python3"
  },
  "language_info": {
   "codemirror_mode": {
    "name": "ipython",
    "version": 3
   },
   "file_extension": ".py",
   "mimetype": "text/x-python",
   "name": "python",
   "nbconvert_exporter": "python",
   "pygments_lexer": "ipython3",
   "version": "3.12.1"
  }
 },
 "nbformat": 4,
 "nbformat_minor": 5
}

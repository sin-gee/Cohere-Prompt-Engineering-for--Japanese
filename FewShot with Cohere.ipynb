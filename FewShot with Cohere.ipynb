{
 "cells": [
  {
   "cell_type": "markdown",
   "id": "5079850b-34d0-4f17-a221-1e1a02e1c7db",
   "metadata": {},
   "source": [
    "# Prompt Egineering\n",
    "## Few shot with Cohere"
   ]
  },
  {
   "cell_type": "markdown",
   "id": "e7fc05e2-8f71-4d41-89f6-a06688a719f7",
   "metadata": {},
   "source": [
    "CohereのAPIキーは、https://dashboard.cohere.com/welcome/login からサインアップして取得してください<br>\n"
   ]
  },
  {
   "cell_type": "code",
   "execution_count": 1,
   "id": "9fbe06b0-91f6-4b3a-897f-bb41e9963fd7",
   "metadata": {},
   "outputs": [
    {
     "name": "stdout",
     "output_type": "stream",
     "text": [
      "Requirement already satisfied: python-dotenv in c:\\users\\user\\appdata\\local\\programs\\python\\python312\\lib\\site-packages (1.0.1)\n",
      "Requirement already satisfied: cohere in c:\\users\\user\\appdata\\local\\programs\\python\\python312\\lib\\site-packages (5.5.6)\n",
      "Requirement already satisfied: boto3<2.0.0,>=1.34.0 in c:\\users\\user\\appdata\\local\\programs\\python\\python312\\lib\\site-packages (from cohere) (1.34.123)\n",
      "Requirement already satisfied: fastavro<2.0.0,>=1.9.4 in c:\\users\\user\\appdata\\local\\programs\\python\\python312\\lib\\site-packages (from cohere) (1.9.4)\n",
      "Requirement already satisfied: httpx>=0.21.2 in c:\\users\\user\\appdata\\local\\programs\\python\\python312\\lib\\site-packages (from cohere) (0.27.0)\n",
      "Requirement already satisfied: httpx-sse<0.5.0,>=0.4.0 in c:\\users\\user\\appdata\\local\\programs\\python\\python312\\lib\\site-packages (from cohere) (0.4.0)\n",
      "Requirement already satisfied: parameterized<0.10.0,>=0.9.0 in c:\\users\\user\\appdata\\local\\programs\\python\\python312\\lib\\site-packages (from cohere) (0.9.0)\n",
      "Requirement already satisfied: pydantic>=1.9.2 in c:\\users\\user\\appdata\\local\\programs\\python\\python312\\lib\\site-packages (from cohere) (2.7.3)\n",
      "Requirement already satisfied: requests<3.0.0,>=2.0.0 in c:\\users\\user\\appdata\\local\\programs\\python\\python312\\lib\\site-packages (from cohere) (2.32.3)\n",
      "Requirement already satisfied: tokenizers<0.16,>=0.15 in c:\\users\\user\\appdata\\local\\programs\\python\\python312\\lib\\site-packages (from cohere) (0.15.2)\n",
      "Requirement already satisfied: types-requests<3.0.0,>=2.0.0 in c:\\users\\user\\appdata\\local\\programs\\python\\python312\\lib\\site-packages (from cohere) (2.32.0.20240602)\n",
      "Requirement already satisfied: typing_extensions>=4.0.0 in c:\\users\\user\\appdata\\local\\programs\\python\\python312\\lib\\site-packages (from cohere) (4.12.2)\n",
      "Requirement already satisfied: botocore<1.35.0,>=1.34.123 in c:\\users\\user\\appdata\\local\\programs\\python\\python312\\lib\\site-packages (from boto3<2.0.0,>=1.34.0->cohere) (1.34.123)\n",
      "Requirement already satisfied: jmespath<2.0.0,>=0.7.1 in c:\\users\\user\\appdata\\local\\programs\\python\\python312\\lib\\site-packages (from boto3<2.0.0,>=1.34.0->cohere) (1.0.1)\n",
      "Requirement already satisfied: s3transfer<0.11.0,>=0.10.0 in c:\\users\\user\\appdata\\local\\programs\\python\\python312\\lib\\site-packages (from boto3<2.0.0,>=1.34.0->cohere) (0.10.1)\n",
      "Requirement already satisfied: anyio in c:\\users\\user\\appdata\\local\\programs\\python\\python312\\lib\\site-packages (from httpx>=0.21.2->cohere) (4.2.0)\n",
      "Requirement already satisfied: certifi in c:\\users\\user\\appdata\\local\\programs\\python\\python312\\lib\\site-packages (from httpx>=0.21.2->cohere) (2024.2.2)\n",
      "Requirement already satisfied: httpcore==1.* in c:\\users\\user\\appdata\\local\\programs\\python\\python312\\lib\\site-packages (from httpx>=0.21.2->cohere) (1.0.5)\n",
      "Requirement already satisfied: idna in c:\\users\\user\\appdata\\local\\programs\\python\\python312\\lib\\site-packages (from httpx>=0.21.2->cohere) (3.6)\n",
      "Requirement already satisfied: sniffio in c:\\users\\user\\appdata\\local\\programs\\python\\python312\\lib\\site-packages (from httpx>=0.21.2->cohere) (1.3.0)\n",
      "Requirement already satisfied: h11<0.15,>=0.13 in c:\\users\\user\\appdata\\local\\programs\\python\\python312\\lib\\site-packages (from httpcore==1.*->httpx>=0.21.2->cohere) (0.14.0)\n",
      "Requirement already satisfied: annotated-types>=0.4.0 in c:\\users\\user\\appdata\\local\\programs\\python\\python312\\lib\\site-packages (from pydantic>=1.9.2->cohere) (0.7.0)\n",
      "Requirement already satisfied: pydantic-core==2.18.4 in c:\\users\\user\\appdata\\local\\programs\\python\\python312\\lib\\site-packages (from pydantic>=1.9.2->cohere) (2.18.4)\n",
      "Requirement already satisfied: charset-normalizer<4,>=2 in c:\\users\\user\\appdata\\local\\programs\\python\\python312\\lib\\site-packages (from requests<3.0.0,>=2.0.0->cohere) (3.3.2)\n",
      "Requirement already satisfied: urllib3<3,>=1.21.1 in c:\\users\\user\\appdata\\local\\programs\\python\\python312\\lib\\site-packages (from requests<3.0.0,>=2.0.0->cohere) (2.2.1)\n",
      "Requirement already satisfied: huggingface_hub<1.0,>=0.16.4 in c:\\users\\user\\appdata\\local\\programs\\python\\python312\\lib\\site-packages (from tokenizers<0.16,>=0.15->cohere) (0.23.3)\n",
      "Requirement already satisfied: python-dateutil<3.0.0,>=2.1 in c:\\users\\user\\appdata\\local\\programs\\python\\python312\\lib\\site-packages (from botocore<1.35.0,>=1.34.123->boto3<2.0.0,>=1.34.0->cohere) (2.8.2)\n",
      "Requirement already satisfied: filelock in c:\\users\\user\\appdata\\local\\programs\\python\\python312\\lib\\site-packages (from huggingface_hub<1.0,>=0.16.4->tokenizers<0.16,>=0.15->cohere) (3.13.1)\n",
      "Requirement already satisfied: fsspec>=2023.5.0 in c:\\users\\user\\appdata\\local\\programs\\python\\python312\\lib\\site-packages (from huggingface_hub<1.0,>=0.16.4->tokenizers<0.16,>=0.15->cohere) (2023.12.2)\n",
      "Requirement already satisfied: packaging>=20.9 in c:\\users\\user\\appdata\\local\\programs\\python\\python312\\lib\\site-packages (from huggingface_hub<1.0,>=0.16.4->tokenizers<0.16,>=0.15->cohere) (23.2)\n",
      "Requirement already satisfied: pyyaml>=5.1 in c:\\users\\user\\appdata\\local\\programs\\python\\python312\\lib\\site-packages (from huggingface_hub<1.0,>=0.16.4->tokenizers<0.16,>=0.15->cohere) (6.0.1)\n",
      "Requirement already satisfied: tqdm>=4.42.1 in c:\\users\\user\\appdata\\local\\programs\\python\\python312\\lib\\site-packages (from huggingface_hub<1.0,>=0.16.4->tokenizers<0.16,>=0.15->cohere) (4.66.4)\n",
      "Requirement already satisfied: six>=1.5 in c:\\users\\user\\appdata\\local\\programs\\python\\python312\\lib\\site-packages (from python-dateutil<3.0.0,>=2.1->botocore<1.35.0,>=1.34.123->boto3<2.0.0,>=1.34.0->cohere) (1.16.0)\n",
      "Requirement already satisfied: colorama in c:\\users\\user\\appdata\\local\\programs\\python\\python312\\lib\\site-packages (from tqdm>=4.42.1->huggingface_hub<1.0,>=0.16.4->tokenizers<0.16,>=0.15->cohere) (0.4.6)\n"
     ]
    }
   ],
   "source": [
    "!pip install python-dotenv cohere"
   ]
  },
  {
   "cell_type": "code",
   "execution_count": 1,
   "id": "aadbbff3-0b9f-434b-8bac-fa2f62dbb92a",
   "metadata": {},
   "outputs": [],
   "source": [
    "import os\n",
    "import cohere\n",
    "import sys\n",
    "from dotenv import load_dotenv, find_dotenv\n",
    "_ = load_dotenv(find_dotenv())\n",
    "\n",
    "# OSの環境変数にCOHERE_API_KEYを設定してください\n",
    "api_key=os.environ.get(\"COHERE_API_KEY\")\n",
    "#print(api_key)"
   ]
  },
  {
   "cell_type": "code",
   "execution_count": 2,
   "id": "a0a812df-1842-4648-8f85-53c5e17a944e",
   "metadata": {},
   "outputs": [],
   "source": [
    "def get_completion_from_messages(messages, user_message,\n",
    "                                 temperature=0, max_tokens=500):\n",
    "    response = cohere.Client(api_key).chat(\n",
    "        chat_history=messages,\n",
    "        message=user_message\n",
    "    )\n",
    "    return response.text"
   ]
  },
  {
   "cell_type": "code",
   "execution_count": 3,
   "id": "bcc60f6b-2dae-4a9e-b4f7-0dde973c0f11",
   "metadata": {},
   "outputs": [],
   "source": [
    "delimiter = \"####\""
   ]
  },
  {
   "cell_type": "markdown",
   "id": "0ba8050c-8ffc-49ca-a416-9d0af4ea8fbb",
   "metadata": {},
   "source": [
    "### 課題の設定"
   ]
  },
  {
   "cell_type": "code",
   "execution_count": 29,
   "id": "672cd06f-7847-4c62-921f-e6d6013152d0",
   "metadata": {},
   "outputs": [],
   "source": [
    "user_message = f\"\"\"\n",
    "醤油の角が立ちながらもしょっぱさは感じられず生からの風味と豚骨のコが存分に出ている麺は家系と球の中部と麺が適度な硬さに湯で荒れていてもっちりとした弾力とともに水水しい小麦の風味を感じるそして麺にはスープが存分に絡みこみ小麦の甘みに醤油のきれや動物のコが重なることで味わいに飛躍的な膨らみが生まれるこちらの象徴であるチャーシュが器の縁からはみ出している肉質は同人な弾力と共に封じ込められた肉汁の潤いを保っていて噛みしめると軍港を浴びた赤みの旨みが下に鮮明に映し出される\n",
    "\"\"\"\n",
    "\n",
    "#誤字のある設定"
   ]
  },
  {
   "cell_type": "markdown",
   "id": "07681628-597a-4ffa-a489-afd66ef85d77",
   "metadata": {},
   "source": [
    "### 例なしの指示（Zero-shot）"
   ]
  },
  {
   "cell_type": "code",
   "execution_count": 30,
   "id": "b44b6313-07bf-4560-9020-6c6615dec721",
   "metadata": {},
   "outputs": [],
   "source": [
    "simple_message = f\"\"\"\n",
    "あなたは優秀な編集者です。与えられたYouTubeの文字起こしに誤字があれば修正してください。\n",
    "\"\"\""
   ]
  },
  {
   "cell_type": "code",
   "execution_count": 31,
   "id": "494d14b7-e498-4367-a6c5-d9f71ef52987",
   "metadata": {},
   "outputs": [
    {
     "name": "stdout",
     "output_type": "stream",
     "text": [
      "醤油の香りが立ちながらもしょっぱさは感じられず、鶏ガラからの風味と豚骨のコクが存分に出ている。麺は家系と九州の中間とでも言えるもので、適度な硬さに茹で上げられていて、もっちりとした弾力とともに瑞々しい小麦の風味を感じる。そして麺にはスープが存分に絡み、小麦の甘みに醤油の香りや動物のコクが重なることで、味わいに飛躍的な膨らみが生まれる。こちらの象徴であるチャーシューが器の縁からはみ出している。肉質は柔らかな弾力と共に封じ込められた肉汁の潤いを保っていて、噛みしめると軍港の香りがした赤身の旨みが鮮明に映し出される。\n"
     ]
    }
   ],
   "source": [
    "messages =  [  \n",
    "{'role':'system', \n",
    " 'message': simple_message}\n",
    "] \n",
    "\n",
    "response = get_completion_from_messages(messages,user_message)\n",
    "print(response)"
   ]
  },
  {
   "cell_type": "markdown",
   "id": "c5103b53-16bc-4d62-bbe4-f6da91f7f80d",
   "metadata": {},
   "source": [
    "### 例を示す（Few-Shot）"
   ]
  },
  {
   "cell_type": "code",
   "execution_count": 34,
   "id": "27c05e28-e2b4-4c85-8085-57fec4d42ada",
   "metadata": {},
   "outputs": [],
   "source": [
    "message_with_few_shot = f\"\"\"\n",
    "あなたは優秀な編集者です。与えられたYouTubeの文字起こしに誤字があれば修正してください。\n",
    "次の例を参考にしてください。\n",
    "\n",
    "例１\n",
    "（修正前）\n",
    "この店が家系の元祖重さを感じさせない豚骨とトガスープに切りと効いた醤油の顔ばさをプラスしたスープが絶品\n",
    "家系ラーメン御用たしの境生面製の麺はもちっと食感と小麦の風味がスープにはとても合っていて美味しい\n",
    "香ばしくスモックされたチャーシュや大きなのりほれ草など家系ラーメンならではのトッピングもうまい\n",
    "（修正後）\n",
    "この店が家系の元祖\n",
    "重さを感じさせない豚骨と鶏ガラスープにキリリと効いた醤油の顔ばさをプラスしたスープが絶品\n",
    "家系ラーメン御用達の酒井製麺製の麺はもちっと食感と小麦の風味がスープにはとても合っていて美味しい\n",
    "香ばしくスモークされたチャーシュや大きな海苔、ほうれん草など家系ラーメンならではのトッピングもうまい\n",
    "\n",
    "\n",
    "例２\n",
    "（修正前）\n",
    "東本山吉村屋での修行を経て開業した直径第１号店\n",
    "醤油の師が先行し後からマイルドな豚骨の味わい全体的には濃厚でパンチのあるテイスト\n",
    "堺製麺の中部と面で短くてやや柔らかめな仕上がりこれは固め水晶\n",
    "（修正後）\n",
    "総本山吉村家での修行を経て開業した直系１号店\n",
    "醤油の主張が先行し後からマイルドな豚骨の味わい\n",
    "全体的には濃厚でパンチのあるテイスト\n",
    "酒井製麺の中太麺で、短くてやや柔らかめな仕上がり\n",
    "これは固め推奨\n",
    "\n",
    "\"\"\""
   ]
  },
  {
   "cell_type": "code",
   "execution_count": 35,
   "id": "661ed289-2ad7-43ed-8a55-447cd3a41d63",
   "metadata": {},
   "outputs": [
    {
     "name": "stdout",
     "output_type": "stream",
     "text": [
      "醤油の角が立ちながらも、しょっぱさは感じられず、生醤油の風味と豚骨のコクが存分に出ている。麺は家系と中太麺で、適度な硬さに茹で上がっていて、もっちりとした弾力とともに瑞々しい小麦の風味を感じる。そして麺にはスープが存分に絡み、小麦の甘みに醤油のキレや動物のコクが重なることで、味わいに飛躍的な膨らみが生まれる。こちらの象徴であるチャーシューが器の縁からはみ出している。肉質は弾力と共に封じ込められた肉汁の潤いを保っていて、噛みしめると、軍港を浴びた赤身の旨みが鮮明に映し出される。\n"
     ]
    }
   ],
   "source": [
    "messages =  [  \n",
    "{'role':'system', \n",
    " 'message': message_with_few_shot}\n",
    "] \n",
    "\n",
    "response = get_completion_from_messages(messages,user_message)\n",
    "print(response)"
   ]
  },
  {
   "cell_type": "code",
   "execution_count": null,
   "id": "15ca8cff-2250-4d85-8e64-848b3acb398a",
   "metadata": {},
   "outputs": [],
   "source": []
  }
 ],
 "metadata": {
  "kernelspec": {
   "display_name": "Python 3 (ipykernel)",
   "language": "python",
   "name": "python3"
  },
  "language_info": {
   "codemirror_mode": {
    "name": "ipython",
    "version": 3
   },
   "file_extension": ".py",
   "mimetype": "text/x-python",
   "name": "python",
   "nbconvert_exporter": "python",
   "pygments_lexer": "ipython3",
   "version": "3.12.1"
  }
 },
 "nbformat": 4,
 "nbformat_minor": 5
}

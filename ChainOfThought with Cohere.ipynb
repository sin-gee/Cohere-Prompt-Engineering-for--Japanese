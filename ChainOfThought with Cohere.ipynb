{
 "cells": [
  {
   "cell_type": "markdown",
   "id": "5cde1b69-f431-4c07-9835-8ca13396850d",
   "metadata": {},
   "source": [
    "# Prompt Egineering\n",
    "## Chain of Thought 思考の連鎖 with Cohere"
   ]
  },
  {
   "cell_type": "markdown",
   "id": "a30744c5-8f0e-420c-8972-f3ff171c89c5",
   "metadata": {},
   "source": [
    "https://learn.deeplearning.ai/courses/chatgpt-building-system/lesson/5/chain-of-thought-reasoning\n",
    "を元にCohere移行と日本語化を行いました"
   ]
  },
  {
   "cell_type": "markdown",
   "id": "e7fc05e2-8f71-4d41-89f6-a06688a719f7",
   "metadata": {},
   "source": [
    "CohereのAPIキーは、https://dashboard.cohere.com/welcome/login からサインアップして取得してください<br>\n"
   ]
  },
  {
   "cell_type": "code",
   "execution_count": null,
   "id": "9fbe06b0-91f6-4b3a-897f-bb41e9963fd7",
   "metadata": {},
   "outputs": [],
   "source": [
    "!pip install python-dotenv cohere"
   ]
  },
  {
   "cell_type": "code",
   "execution_count": 55,
   "id": "aadbbff3-0b9f-434b-8bac-fa2f62dbb92a",
   "metadata": {},
   "outputs": [],
   "source": [
    "import os\n",
    "import cohere\n",
    "import sys\n",
    "from dotenv import load_dotenv, find_dotenv\n",
    "_ = load_dotenv(find_dotenv())\n",
    "\n",
    "# OSの環境変数にCOHERE_API_KEYを設定してください\n",
    "api_key=os.environ.get(\"COHERE_API_KEY\")\n",
    "#print(api_key)"
   ]
  },
  {
   "cell_type": "code",
   "execution_count": 42,
   "id": "a0a812df-1842-4648-8f85-53c5e17a944e",
   "metadata": {},
   "outputs": [],
   "source": [
    "def get_completion_from_messages(messages, user_message,\n",
    "                                 temperature=0, max_tokens=500):\n",
    "    response = cohere.Client(api_key).chat(\n",
    "        chat_history=messages,\n",
    "        message=user_message\n",
    "    )\n",
    "    #使用したトークン数等を知りたい場合はコメントアウトを外してみてください\n",
    "    #print(response)\n",
    "    return response.text"
   ]
  },
  {
   "cell_type": "markdown",
   "id": "8513424a-bfd7-4b21-942a-ea7cbf388e28",
   "metadata": {},
   "source": [
    "### 取り扱い製品リスト"
   ]
  },
  {
   "cell_type": "code",
   "execution_count": 7,
   "id": "6434068e-17d3-4538-8cff-d4f72a0f6917",
   "metadata": {},
   "outputs": [],
   "source": [
    "productslist = \"\"\"\n",
    "1. Product: TechPro Ultrabook\n",
    "   Category: Computers and Laptops\n",
    "   Brand: TechPro\n",
    "   Model Number: TP-UB100\n",
    "   Warranty: 1 year\n",
    "   Rating: 4.5\n",
    "   Features: 13.3-inch display, 8GB RAM, 256GB SSD, Intel Core i5 processor\n",
    "   Description: A sleek and lightweight ultrabook for everyday use.\n",
    "   Price: $799.99\n",
    "\n",
    "2. Product: BlueWave Gaming Laptop\n",
    "   Category: Computers and Laptops\n",
    "   Brand: BlueWave\n",
    "   Model Number: BW-GL200\n",
    "   Warranty: 2 years\n",
    "   Rating: 4.7\n",
    "   Features: 15.6-inch display, 16GB RAM, 512GB SSD, NVIDIA GeForce RTX 3060\n",
    "   Description: A high-performance gaming laptop for an immersive experience.\n",
    "   Price: $1199.99\n",
    "\n",
    "3. Product: PowerLite Convertible\n",
    "   Category: Computers and Laptops\n",
    "   Brand: PowerLite\n",
    "   Model Number: PL-CV300\n",
    "   Warranty: 1 year\n",
    "   Rating: 4.3\n",
    "   Features: 14-inch touchscreen, 8GB RAM, 256GB SSD, 360-degree hinge\n",
    "   Description: A versatile convertible laptop with a responsive touchscreen.\n",
    "   Price: $699.99\n",
    "\n",
    "4. Product: TechPro Desktop\n",
    "   Category: Computers and Laptops\n",
    "   Brand: TechPro\n",
    "   Model Number: TP-DT500\n",
    "   Warranty: 1 year\n",
    "   Rating: 4.4\n",
    "   Features: Intel Core i7 processor, 16GB RAM, 1TB HDD, NVIDIA GeForce GTX 1660\n",
    "   Description: A powerful desktop computer for work and play.\n",
    "   Price: $999.99\n",
    "\n",
    "5. Product: BlueWave Chromebook\n",
    "   Category: Computers and Laptops\n",
    "   Brand: BlueWave\n",
    "   Model Number: BW-CB100\n",
    "   Warranty: 1 year\n",
    "   Rating: 4.1\n",
    "   Features: 11.6-inch display, 4GB RAM, 32GB eMMC, Chrome OS\n",
    "   Description: A compact and affordable Chromebook for everyday tasks.\n",
    "   Price: $249.99\n",
    "\"\"\""
   ]
  },
  {
   "cell_type": "code",
   "execution_count": 9,
   "id": "bcc60f6b-2dae-4a9e-b4f7-0dde973c0f11",
   "metadata": {},
   "outputs": [],
   "source": [
    "delimiter = \"####\""
   ]
  },
  {
   "cell_type": "markdown",
   "id": "0ba8050c-8ffc-49ca-a416-9d0af4ea8fbb",
   "metadata": {},
   "source": [
    "### 顧客からの問い合わせ"
   ]
  },
  {
   "cell_type": "code",
   "execution_count": 11,
   "id": "672cd06f-7847-4c62-921f-e6d6013152d0",
   "metadata": {},
   "outputs": [],
   "source": [
    "user_message = f\"\"\"\n",
    "BlueWave Chromebook は TechPro Desktop よりもどれだけ高いですか？\"\"\"\n",
    "\n",
    "#顧客が間違った仮定のもと質問した場合を設定"
   ]
  },
  {
   "cell_type": "markdown",
   "id": "07681628-597a-4ffa-a489-afd66ef85d77",
   "metadata": {},
   "source": [
    "### シンプルな指示"
   ]
  },
  {
   "cell_type": "code",
   "execution_count": 8,
   "id": "b44b6313-07bf-4560-9020-6c6615dec721",
   "metadata": {},
   "outputs": [],
   "source": [
    "simple_message = f\"\"\"\n",
    "顧客からの質問に答えてください。\n",
    "\n",
    "全取扱製品は以下のとおりです。 \n",
    "{productslist}\n",
    "\"\"\""
   ]
  },
  {
   "cell_type": "code",
   "execution_count": 43,
   "id": "494d14b7-e498-4367-a6c5-d9f71ef52987",
   "metadata": {},
   "outputs": [
    {
     "name": "stdout",
     "output_type": "stream",
     "text": [
      "BlueWave Chromebook は TechPro Desktop よりも $750 高いです。TechPro Desktop の価格は $999.99 であるのに対し、BlueWave Chromebook の価格は $249.99 です。\n"
     ]
    }
   ],
   "source": [
    "messages =  [  \n",
    "{'role':'system', \n",
    " 'message': simple_message}\n",
    "] \n",
    "\n",
    "response = get_completion_from_messages(messages,user_message)\n",
    "print(response)"
   ]
  },
  {
   "cell_type": "markdown",
   "id": "d5f1ae69-8141-41d7-8b1e-65e0492bae93",
   "metadata": {},
   "source": [
    "### マジックワード ”ステップ バイ ステップで”を追加した場合"
   ]
  },
  {
   "cell_type": "code",
   "execution_count": 61,
   "id": "27c05e28-e2b4-4c85-8085-57fec4d42ada",
   "metadata": {},
   "outputs": [],
   "source": [
    "step_by_step_message = f\"\"\"\n",
    "顧客からの質問にステップ バイ ステップで考えて答えてください。\n",
    "考えた過程をすべて答えてください。\n",
    "\n",
    "全取扱製品は以下のとおりです。 \n",
    "{productslist}\n",
    "\"\"\""
   ]
  },
  {
   "cell_type": "code",
   "execution_count": 62,
   "id": "661ed289-2ad7-43ed-8a55-447cd3a41d63",
   "metadata": {},
   "outputs": [
    {
     "name": "stdout",
     "output_type": "stream",
     "text": [
      "顧客の質問に答えるために、以下のステップを踏みます。\n",
      "\n",
      "1. BlueWave Chromebook と TechPro Desktop の価格を確認します。\n",
      "2. 2つの製品の価格を比較し、価格差を計算します。\n",
      "\n",
      "**ステップ 1:**\n",
      "\n",
      "- BlueWave Chromebook の価格: $249.99\n",
      "- TechPro Desktop の価格: $999.99\n",
      "\n",
      "**ステップ 2:**\n",
      "\n",
      "TechPro Desktop の価格から BlueWave Chromebook の価格を引いて、価格差を計算します:\n",
      "\n",
      "$999.99 - $249.99 = $750\n",
      "\n",
      "**回答:**\n",
      "\n",
      "BlueWave Chromebook は TechPro Desktop よりも $750 高いです。\n"
     ]
    }
   ],
   "source": [
    "messages =  [  \n",
    "{'role':'system', \n",
    " 'message': step_by_step_message}\n",
    "] \n",
    "\n",
    "response = get_completion_from_messages(messages,user_message)\n",
    "print(response)"
   ]
  },
  {
   "cell_type": "markdown",
   "id": "a25a010a-ba94-4ef7-a976-8fa493b01f04",
   "metadata": {},
   "source": [
    "### 思考の連鎖を具体的に指示した場合"
   ]
  },
  {
   "cell_type": "code",
   "execution_count": 10,
   "id": "e9e1b3c5-7480-4293-963e-108091b35b59",
   "metadata": {},
   "outputs": [],
   "source": [
    "system_message = f\"\"\"\n",
    "次のステップで顧客からの質問に答えてください。\n",
    "顧客からの質問は４つのハッシュタグで区切っています。\\\n",
    "例： {delimiter}。\n",
    "\n",
    "ステップ １:{delimiter} まず、顧客が質問している製品のタイプあるいは製品名を判断してください。 \\\n",
    "製品のカテゴリは問いません。 \n",
    "\n",
    "ステップ ２:{delimiter} もし顧客が特定の製品について質問しているのであれば \\\n",
    "次のリストのうちどの製品か特定してください。\n",
    "\n",
    "全取扱製品: \n",
    "{productslist}\n",
    "\n",
    "ステップ ３:{delimiter} メッセージ内の製品が上記のリストに含まれる場合、 \\\n",
    "顧客が仮定しているであろうことを書き出してください。 \\\n",
    "例： Laptop X は Laptop Yよりも大きい\\\n",
    "あるいは Laptop Z は 2 年の保証付きである。\n",
    "\n",
    "ステップ ４:{delimiter}: もし顧客が何等か仮定している場合、 \\\n",
    "その仮定が製品情報から判断して正しいかどうか判断してください。 \n",
    "\n",
    "ステップ ５:{delimiter}: まず、もし顧客の質問に誤った仮定があれば、\\\n",
    "礼儀正しく指摘してください。\\\n",
    "取り扱っている製品は５種類のみですので、\\\n",
    "扱っている製品について説明するまでにしてください。 \\\n",
    "フレンドリーな口調で顧客に回答してください。\n",
    "\n",
    "次のフォーマットを使ってください:\n",
    "ステップ １:{delimiter} <step 1 reasoning>\n",
    "ステップ ２:{delimiter} <step 2 reasoning>\n",
    "ステップ ３:{delimiter} <step 3 reasoning>\n",
    "ステップ ４:{delimiter} <step 4 reasoning>\n",
    "顧客への回答:{delimiter} <response to customer>\n",
    "\n",
    "各ステップは {delimiter} で区切ってください。\n",
    "\"\"\""
   ]
  },
  {
   "cell_type": "code",
   "execution_count": 44,
   "id": "54861e52-a15f-4c77-ac73-ccd43af75394",
   "metadata": {},
   "outputs": [
    {
     "name": "stdout",
     "output_type": "stream",
     "text": [
      "ステップ １:#### 顧客は BlueWave Chromebook と TechPro Desktop の価格の差を尋ねています。\n",
      "\n",
      "ステップ ２:#### BlueWave Chromebook と TechPro Desktop は当店で取り扱っている製品です。\n",
      "\n",
      "ステップ ３:#### 顧客は BlueWave Chromebook の価格が TechPro Desktop よりも高いと仮定しているようです。\n",
      "\n",
      "ステップ ４:#### 顧客の仮定は正しくありません。TechPro Desktop の価格は $999.99 で、BlueWave Chromebook の価格は $249.99 です。TechPro Desktop の方が高価です。\n",
      "\n",
      "顧客への回答:#### ご質問ありがとうございます！BlueWave Chromebook の価格は TechPro Desktop よりも安く、$249.99 です。TechPro Desktop は $999.99 です。\n",
      "\n",
      "当店では、TechPro Desktop のようなデスクトップコンピューターから、BlueWave Chromebook のような Chromebook まで、様々なコンピューターやラップトップを取り扱っています。ご質問やご要望があれば、お気軽にお問い合わせください！\n"
     ]
    }
   ],
   "source": [
    "messages =  [  \n",
    "{'role':'system', \n",
    " 'message': system_message}\n",
    "] \n",
    "\n",
    "response = get_completion_from_messages(messages,user_message)\n",
    "print(response)"
   ]
  },
  {
   "cell_type": "code",
   "execution_count": null,
   "id": "0b58d2c9-0058-4fef-ae9d-eed20a246065",
   "metadata": {},
   "outputs": [],
   "source": []
  }
 ],
 "metadata": {
  "kernelspec": {
   "display_name": "Python 3 (ipykernel)",
   "language": "python",
   "name": "python3"
  },
  "language_info": {
   "codemirror_mode": {
    "name": "ipython",
    "version": 3
   },
   "file_extension": ".py",
   "mimetype": "text/x-python",
   "name": "python",
   "nbconvert_exporter": "python",
   "pygments_lexer": "ipython3",
   "version": "3.12.1"
  }
 },
 "nbformat": 4,
 "nbformat_minor": 5
}
